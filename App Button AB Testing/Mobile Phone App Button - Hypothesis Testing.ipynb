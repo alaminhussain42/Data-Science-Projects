{
 "cells": [
  {
   "cell_type": "markdown",
   "id": "d4d7c639-e262-4342-b2ab-fdeeee587008",
   "metadata": {},
   "source": [
    "# Mobile Phone App Button - Hypothesis Testing (A/B)"
   ]
  },
  {
   "cell_type": "markdown",
   "id": "d9fe40d3-5aef-4e2e-ba41-ad5f4f269744",
   "metadata": {},
   "source": [
    "### Introduction\n",
    "\n",
    "In this project, we aim to optimize user engagement on a mobile app by experimenting with a key element on the landing page: the main action button. To determine the most effective design, we will conduct an A/B test comparing the current button (Control) with a newly designed version (Experimental).\n",
    "\n",
    "The hypothesis driving this experiment is that the new button, designed to be more visually engaging, will lead to a higher Click-Through Rate (CTR), thereby increasing overall user interaction with the app.\n",
    "\n",
    "### Business Objective\n",
    "\n",
    "The primary goal is to assess which version of the button—existing or new—leads to better user engagement as measured by CTR. The users who are exposed to the current landing page will form the control group, while those who see the updated landing page will be part of the experimental group.\n",
    "\n",
    "### Business Hypothesis\n",
    "\n",
    "We hypothesize that the new button will result in at least a 10% increase in CTR compared to the existing button.\n",
    "\n",
    "- **Null Hypothesis (H₀):** There is no significant difference in CTR between the control group (current button) and the experimental group (new button).\n",
    "- **Alternative Hypothesis (H₁):** There is a significant difference in CTR between the control group (current button) and the experimental group (new button).\n",
    "\n",
    "### Expected Outcome\n",
    "\n",
    "By analyzing the CTR for both groups, we aim to determine whether the new button design results in a statistically significant improvement in user engagement. The findings will guide the decision on whether to roll out the new design or retain the existing one, ensuring that any changes to the app are data-driven and aligned with enhancing the user experience.\n",
    "\n"
   ]
  },
  {
   "cell_type": "code",
   "execution_count": 8,
   "id": "7f63e353-697f-41cb-bdc9-ea88e3c7289e",
   "metadata": {},
   "outputs": [],
   "source": [
    "import os\n",
    "import pandas as pd \n",
    "import numpy as np\n",
    "import seaborn as sns\n",
    "import matplotlib.pyplot as plt\n",
    "from scipy.stats import norm"
   ]
  },
  {
   "cell_type": "code",
   "execution_count": 10,
   "id": "283357c2-1a8a-4389-b2e4-26ecefe7861e",
   "metadata": {},
   "outputs": [],
   "source": [
    "df = pd.read_csv(\"ab_test_click_data.csv\")"
   ]
  },
  {
   "cell_type": "code",
   "execution_count": 11,
   "id": "43bc4a73-c5d8-4979-b7e5-517225d73f37",
   "metadata": {},
   "outputs": [
    {
     "data": {
      "text/html": [
       "<div>\n",
       "<style scoped>\n",
       "    .dataframe tbody tr th:only-of-type {\n",
       "        vertical-align: middle;\n",
       "    }\n",
       "\n",
       "    .dataframe tbody tr th {\n",
       "        vertical-align: top;\n",
       "    }\n",
       "\n",
       "    .dataframe thead th {\n",
       "        text-align: right;\n",
       "    }\n",
       "</style>\n",
       "<table border=\"1\" class=\"dataframe\">\n",
       "  <thead>\n",
       "    <tr style=\"text-align: right;\">\n",
       "      <th></th>\n",
       "      <th>user_id</th>\n",
       "      <th>click</th>\n",
       "      <th>group</th>\n",
       "      <th>timestamp</th>\n",
       "    </tr>\n",
       "  </thead>\n",
       "  <tbody>\n",
       "    <tr>\n",
       "      <th>0</th>\n",
       "      <td>1</td>\n",
       "      <td>1</td>\n",
       "      <td>exp</td>\n",
       "      <td>2024-01-01 00:00:00</td>\n",
       "    </tr>\n",
       "    <tr>\n",
       "      <th>1</th>\n",
       "      <td>2</td>\n",
       "      <td>0</td>\n",
       "      <td>exp</td>\n",
       "      <td>2024-01-01 00:01:00</td>\n",
       "    </tr>\n",
       "    <tr>\n",
       "      <th>2</th>\n",
       "      <td>3</td>\n",
       "      <td>1</td>\n",
       "      <td>exp</td>\n",
       "      <td>2024-01-01 00:02:00</td>\n",
       "    </tr>\n",
       "    <tr>\n",
       "      <th>3</th>\n",
       "      <td>4</td>\n",
       "      <td>0</td>\n",
       "      <td>exp</td>\n",
       "      <td>2024-01-01 00:03:00</td>\n",
       "    </tr>\n",
       "    <tr>\n",
       "      <th>4</th>\n",
       "      <td>5</td>\n",
       "      <td>1</td>\n",
       "      <td>exp</td>\n",
       "      <td>2024-01-01 00:04:00</td>\n",
       "    </tr>\n",
       "  </tbody>\n",
       "</table>\n",
       "</div>"
      ],
      "text/plain": [
       "   user_id  click group            timestamp\n",
       "0        1      1   exp  2024-01-01 00:00:00\n",
       "1        2      0   exp  2024-01-01 00:01:00\n",
       "2        3      1   exp  2024-01-01 00:02:00\n",
       "3        4      0   exp  2024-01-01 00:03:00\n",
       "4        5      1   exp  2024-01-01 00:04:00"
      ]
     },
     "execution_count": 11,
     "metadata": {},
     "output_type": "execute_result"
    }
   ],
   "source": [
    "df.head()"
   ]
  },
  {
   "cell_type": "code",
   "execution_count": 12,
   "id": "7c6b0ffd-7e87-423c-aa79-ba0147e52ef9",
   "metadata": {},
   "outputs": [
    {
     "data": {
      "text/html": [
       "<div>\n",
       "<style scoped>\n",
       "    .dataframe tbody tr th:only-of-type {\n",
       "        vertical-align: middle;\n",
       "    }\n",
       "\n",
       "    .dataframe tbody tr th {\n",
       "        vertical-align: top;\n",
       "    }\n",
       "\n",
       "    .dataframe thead th {\n",
       "        text-align: right;\n",
       "    }\n",
       "</style>\n",
       "<table border=\"1\" class=\"dataframe\">\n",
       "  <thead>\n",
       "    <tr style=\"text-align: right;\">\n",
       "      <th></th>\n",
       "      <th>user_id</th>\n",
       "      <th>click</th>\n",
       "    </tr>\n",
       "  </thead>\n",
       "  <tbody>\n",
       "    <tr>\n",
       "      <th>count</th>\n",
       "      <td>20000.000000</td>\n",
       "      <td>20000.000000</td>\n",
       "    </tr>\n",
       "    <tr>\n",
       "      <th>mean</th>\n",
       "      <td>10000.500000</td>\n",
       "      <td>0.405250</td>\n",
       "    </tr>\n",
       "    <tr>\n",
       "      <th>std</th>\n",
       "      <td>5773.647028</td>\n",
       "      <td>0.490953</td>\n",
       "    </tr>\n",
       "    <tr>\n",
       "      <th>min</th>\n",
       "      <td>1.000000</td>\n",
       "      <td>0.000000</td>\n",
       "    </tr>\n",
       "    <tr>\n",
       "      <th>25%</th>\n",
       "      <td>5000.750000</td>\n",
       "      <td>0.000000</td>\n",
       "    </tr>\n",
       "    <tr>\n",
       "      <th>50%</th>\n",
       "      <td>10000.500000</td>\n",
       "      <td>0.000000</td>\n",
       "    </tr>\n",
       "    <tr>\n",
       "      <th>75%</th>\n",
       "      <td>15000.250000</td>\n",
       "      <td>1.000000</td>\n",
       "    </tr>\n",
       "    <tr>\n",
       "      <th>max</th>\n",
       "      <td>20000.000000</td>\n",
       "      <td>1.000000</td>\n",
       "    </tr>\n",
       "  </tbody>\n",
       "</table>\n",
       "</div>"
      ],
      "text/plain": [
       "            user_id         click\n",
       "count  20000.000000  20000.000000\n",
       "mean   10000.500000      0.405250\n",
       "std     5773.647028      0.490953\n",
       "min        1.000000      0.000000\n",
       "25%     5000.750000      0.000000\n",
       "50%    10000.500000      0.000000\n",
       "75%    15000.250000      1.000000\n",
       "max    20000.000000      1.000000"
      ]
     },
     "execution_count": 12,
     "metadata": {},
     "output_type": "execute_result"
    }
   ],
   "source": [
    "df.describe()"
   ]
  },
  {
   "cell_type": "code",
   "execution_count": 13,
   "id": "161a59c7-1a9b-4426-b152-3b53509d8fc0",
   "metadata": {},
   "outputs": [
    {
     "data": {
      "text/plain": [
       "group\n",
       "con    1989\n",
       "exp    6116\n",
       "Name: click, dtype: int64"
      ]
     },
     "execution_count": 13,
     "metadata": {},
     "output_type": "execute_result"
    }
   ],
   "source": [
    "# Number of users who clicked \n",
    "\n",
    "df.groupby('group')['click'].sum()"
   ]
  },
  {
   "cell_type": "code",
   "execution_count": 14,
   "id": "ba3e13fa-bd31-4366-8d35-6b4ea00a0f9f",
   "metadata": {},
   "outputs": [
    {
     "data": {
      "text/plain": [
       "group  click\n",
       "con    0        0.8011\n",
       "       1        0.1989\n",
       "exp    1        0.6116\n",
       "       0        0.3884\n",
       "Name: proportion, dtype: float64"
      ]
     },
     "execution_count": 14,
     "metadata": {},
     "output_type": "execute_result"
    }
   ],
   "source": [
    "# Total percentage of users who clicked and did no click \n",
    "\n",
    "df.groupby('group')['click'].value_counts(normalize = True)"
   ]
  },
  {
   "cell_type": "markdown",
   "id": "0a7d4e3b-d219-40c9-a721-b4340126ac43",
   "metadata": {},
   "source": [
    "#### Plotting Click Distribution Graph "
   ]
  },
  {
   "cell_type": "code",
   "execution_count": 15,
   "id": "74b0e3cc-15f1-4433-b833-c432b0abd1c6",
   "metadata": {},
   "outputs": [
    {
     "data": {
      "image/png": "[encoded data removed]",
      "text/plain": [
       "<Figure size 1000x600 with 1 Axes>"
      ]
     },
     "metadata": {},
     "output_type": "display_data"
    }
   ],
   "source": [
    "click_normalized = df.groupby('group')['click'].value_counts(normalize=True).unstack()\n",
    "\n",
    "# Convert the decimals to percentages\n",
    "click_normalized *= 100\n",
    "\n",
    "# Plotting the side-by-side bar chart for normalized click distribution\n",
    "plt.figure(figsize=(10, 6))\n",
    "ax = click_normalized.plot(kind='bar', color=['orange', 'black'], ax=plt.gca())\n",
    "\n",
    "# Adding labels and title\n",
    "plt.title('Click Distribution in Experimental and Control Groups (Percentage)')\n",
    "plt.xlabel('Group')\n",
    "plt.ylabel('Percentage')\n",
    "plt.legend(title='Click', labels=['No', 'Yes'])\n",
    "plt.xticks(rotation=0)\n",
    "\n",
    "# Annotate bars with percentages\n",
    "for container in ax.containers:\n",
    "    ax.bar_label(container, fmt='%.1f%%')\n",
    "\n",
    "plt.tight_layout()\n",
    "plt.show()"
   ]
  },
  {
   "cell_type": "code",
   "execution_count": 16,
   "id": "0d7a8175-2f9d-42bd-85aa-bff31b7707f6",
   "metadata": {},
   "outputs": [],
   "source": [
    "# Significance Level \n",
    "alpha = 0.05\n",
    "\n",
    "# Minimum Detectable Effect considered for practical significance\n",
    "delta = 0.1"
   ]
  },
  {
   "cell_type": "code",
   "execution_count": 17,
   "id": "8325ce63-5cc1-4372-8081-7f840087aadf",
   "metadata": {},
   "outputs": [
    {
     "data": {
      "text/plain": [
       "(1989, 6116, 10000, 10000)"
      ]
     },
     "execution_count": 17,
     "metadata": {},
     "output_type": "execute_result"
    }
   ],
   "source": [
    "# Calculating total number of users per group \n",
    "\n",
    "N_con = df[df['group'] == 'con'].count().iloc[0]\n",
    "N_exp = df[df['group'] == 'exp'].count().iloc[0]\n",
    "\n",
    "# Calculating total number of clicks per group \n",
    "\n",
    "X_con = df.groupby('group')['click'].sum().loc['con']\n",
    "X_exp = df.groupby('group')['click'].sum().loc['exp']\n",
    "\n",
    "X_con, X_exp, N_con, N_exp"
   ]
  },
  {
   "cell_type": "code",
   "execution_count": 18,
   "id": "3c0753f1-4a34-4e5b-8ec2-b4f2a3d6be57",
   "metadata": {},
   "outputs": [
    {
     "name": "stdout",
     "output_type": "stream",
     "text": [
      "Click Probability - Control:  0.1989\n",
      "Click Probability - Experimental:  0.6116\n",
      "Pooled Click Probability:  0.40525\n",
      "Pooled Variance:  4.82044875e-05\n"
     ]
    }
   ],
   "source": [
    "p_con = X_con/N_con\n",
    "p_exp = X_exp/N_exp \n",
    "\n",
    "# Calculating the estimate of pooled clicks probability\n",
    "\n",
    "p_pooled = (X_con + X_exp)/(N_con + N_exp)\n",
    "\n",
    "# Calculating the estimate of pooled variance\n",
    "\n",
    "pooled_var = p_pooled*(1-p_pooled)*(1/N_con + 1/N_exp)\n",
    "\n",
    "print('Click Probability - Control: ', p_con)\n",
    "print('Click Probability - Experimental: ', p_exp)\n",
    "print('Pooled Click Probability: ', p_pooled)\n",
    "print('Pooled Variance: ', pooled_var)"
   ]
  },
  {
   "cell_type": "markdown",
   "id": "1ac36ca7-c161-46f6-b40c-27c4dd033b04",
   "metadata": {},
   "source": [
    "### Type of Hypothesis Test\n",
    "\n",
    "The type of test that we are going to conduct will be a **Two-Tailed Z Test**.\n",
    "\n",
    "**Assumption of Normality:** \n",
    "- We can assume that our data follows a normal distribution\n",
    "    \n",
    "**Homogeneity of Variances:** \n",
    "- We can assume that the variances within each group being compared are approximately equal\n",
    "\n",
    "**Larger Sample Sizes:** \n",
    "- The sample size of each group is 10,000. Parametric tests generally perform well with larger sample sizes, where the Central Limit Theorem suggests that the sampling distribution of the mean approaches normality"
   ]
  },
  {
   "cell_type": "code",
   "execution_count": 19,
   "id": "812376b9-1253-49fa-aadc-6c6e1d6c49c8",
   "metadata": {},
   "outputs": [
    {
     "name": "stdout",
     "output_type": "stream",
     "text": [
      "Standard Error:  0.006942945160376826\n",
      "t stat for the Two-Tailed Z Test:  -59.44163326469381\n",
      "Z-critical value for Standard Normal Distribution:  1.959963984540054\n"
     ]
    }
   ],
   "source": [
    "# Calculating the standard error of the test \n",
    "\n",
    "SE = np.sqrt(pooled_var)\n",
    "\n",
    "# Calculating the test statistics of Z-test\n",
    "\n",
    "t_stat = (p_con - p_exp)/SE\n",
    "\n",
    "# Critical Vale of the Z-test \n",
    "\n",
    "Z_crit = norm.ppf(1-alpha/2)\n",
    "\n",
    "print('Standard Error: ', SE)\n",
    "print('t stat for the Two-Tailed Z Test: ', t_stat)\n",
    "print('Z-critical value for Standard Normal Distribution: ', Z_crit)"
   ]
  },
  {
   "cell_type": "markdown",
   "id": "6dbf6174-4d56-424a-b40f-87f0ae9d9575",
   "metadata": {},
   "source": [
    "We can see that the absolute value for test statistic is much larger than our critical value. This gives us an idea that we can reject the null hypothesis at 5% significance level"
   ]
  },
  {
   "cell_type": "markdown",
   "id": "db852909-e761-42b5-b4c8-56b056b84392",
   "metadata": {},
   "source": [
    "#### Calculating the p value\n",
    "\n",
    "* A low p-value (p ≤ 0.05 at 5% significance level) indicates strong evidence against the null hypothesis, so we reject the null hypothesis.\n",
    "* A high p-value (p > 0.05) indicates weak evidence against the null hypothesis, so we fail to reject the null hypothesis."
   ]
  },
  {
   "cell_type": "code",
   "execution_count": 20,
   "id": "3197c554-4b8f-4f0d-8706-f4ed266d25c9",
   "metadata": {},
   "outputs": [
    {
     "name": "stdout",
     "output_type": "stream",
     "text": [
      "p value for the  Two-Tailed Z Test:  0.0\n"
     ]
    }
   ],
   "source": [
    "p_value = 2 * norm.sf(abs(t_stat))\n",
    "\n",
    "print(\"p value for the  Two-Tailed Z Test: \", p_value)"
   ]
  },
  {
   "cell_type": "markdown",
   "id": "e107e8d9-7220-4a08-b8c8-385009894416",
   "metadata": {},
   "source": [
    "#### Statistical Significance"
   ]
  },
  {
   "cell_type": "code",
   "execution_count": 21,
   "id": "1dfde9d8-8aee-48d8-a8b4-142f47dbc3b1",
   "metadata": {},
   "outputs": [
    {
     "name": "stdout",
     "output_type": "stream",
     "text": [
      "There is statistical significance, indicating that the observed differences between the groupsare unlikely to have occurred by chance alone.\n",
      "This suggests that the changes in the experimental grouphave a real effect compared to the control group.\n"
     ]
    }
   ],
   "source": [
    "def statistical_significance(p_value, alpha):\n",
    "    if p_value <= alpha:\n",
    "        print(\"There is statistical significance, indicating that the observed differences between the groups\\\n",
    "are unlikely to have occurred by chance alone.\\nThis suggests that the changes in the experimental group\\\n",
    "have a real effect compared to the control group.\")\n",
    "    else: \n",
    "        print(\"There is no statistical significance, suggesting that the observed differences between the groups\\\n",
    "could have occurred by chance.\\nThis implies that the changes in the experimental group do not have a substantial\\\n",
    "effect compared to the control group.\")\n",
    "\n",
    "statistical_significance(p_value, alpha)"
   ]
  },
  {
   "cell_type": "markdown",
   "id": "bb3e92ef-c080-4a30-9294-c9952fb3b48e",
   "metadata": {},
   "source": [
    "We can reject H_0. There is enough evidence that suggest that p_con is not queal to p_exp. There is a true difference between the experiemntal version of the button vs the control version of the button."
   ]
  },
  {
   "cell_type": "markdown",
   "id": "846e23eb-ee9a-4fca-a92b-e6a8af777268",
   "metadata": {},
   "source": [
    "#### Plotting graph for visualisation"
   ]
  },
  {
   "cell_type": "code",
   "execution_count": 22,
   "id": "cd55b068-4d2a-42e3-a301-739708414c84",
   "metadata": {},
   "outputs": [
    {
     "data": {
      "image/png": "[encoded data removed]",
      "text/plain": [
       "<Figure size 640x480 with 1 Axes>"
      ]
     },
     "metadata": {},
     "output_type": "display_data"
    }
   ],
   "source": [
    "mu = 0  # Mean\n",
    "sigma = 1  # Standard deviation\n",
    "x = np.linspace(mu - 3*sigma, mu + 3*sigma, 100)\n",
    "y = norm.pdf(x, mu, sigma)\n",
    "\n",
    "plt.plot(x, y, label='Standard Normal Distribution')\n",
    "plt.fill_between(x, y, where=(x > Z_crit) | (x < -Z_crit), color='red', alpha=0.5, label='Rejection Region')\n",
    "plt.axvline(t_stat, color='green', linestyle='dashed', linewidth=2, label=f'Test Statistic = {t_stat:.2f}')\n",
    "plt.axvline(Z_crit, color='blue', linestyle='dashed', linewidth=1, label=f'Z-critical = {Z_crit:.2f}')\n",
    "plt.axvline(-Z_crit, color='blue', linestyle='dashed', linewidth=1)\n",
    "\n",
    "plt.xlabel('Z-value')\n",
    "plt.ylabel('Probability Density')\n",
    "plt.title('Gaussian Distribution with Rejection Region \\n (A/B Testing for CTA button)')\n",
    "plt.legend()\n",
    "\n",
    "plt.show();"
   ]
  },
  {
   "cell_type": "markdown",
   "id": "32fb0c3a-a2e1-4ff7-9d1d-4f02b11258bb",
   "metadata": {},
   "source": [
    "#### Confidence Interval (CI) for a 2-sample Z-test"
   ]
  },
  {
   "cell_type": "code",
   "execution_count": 23,
   "id": "f47031c8-3557-4202-b7df-f0deaaa2a270",
   "metadata": {},
   "outputs": [
    {
     "name": "stdout",
     "output_type": "stream",
     "text": [
      "Confidence Interval of the 2 sample Z-test is:  [0.399, 0.426]\n"
     ]
    }
   ],
   "source": [
    "CI = [round((p_exp - p_con) - SE*Z_crit, 3), round((p_exp - p_con) + SE*Z_crit, 3)]\n",
    "\n",
    "print(\"Confidence Interval of the 2 sample Z-test is: \", CI)"
   ]
  },
  {
   "cell_type": "markdown",
   "id": "2f8aadbd-2acc-4bc7-afb2-b80b81cc3187",
   "metadata": {},
   "source": [
    "The confidence interval provides a range of values within which the true difference between the experimental and control group proportions is likely to lie with a certain level of confidence (e.g. 95%)"
   ]
  },
  {
   "cell_type": "markdown",
   "id": "0ce3d684-50db-4a09-879b-ba404cbf8a29",
   "metadata": {},
   "source": [
    "#### Practical Significance\n",
    "\n",
    "Assessing if the difference between Control and Experimental group is practically significant using the Minimum Detectable Effect (MDE) parameter from the Power Analysis."
   ]
  },
  {
   "cell_type": "code",
   "execution_count": 24,
   "id": "4d06f5a6-9de6-433e-a6e9-fee2cd75190b",
   "metadata": {},
   "outputs": [
    {
     "name": "stdout",
     "output_type": "stream",
     "text": [
      "There is no practical significance! \n",
      "The difference between Control and Experimental group is not practically significant.\n",
      "Lower bound of 95% confidence interval is:  0.399\n"
     ]
    }
   ],
   "source": [
    "def Practically_significant(delta, CI):\n",
    "    lower_bound_CI = CI[0]\n",
    "\n",
    "    if delta >= lower_bound_CI:\n",
    "        print(f\"We have practical significance! \\nWith MDE of {delta}, The difference between Control and Experimental group is practically significant.\")\n",
    "        return True\n",
    "    else:\n",
    "        print(\"There is no practical significance! \\nThe difference between Control and Experimental group is not practically significant.\")\n",
    "        return False\n",
    "\n",
    "significance = Practically_significant(delta, CI)\n",
    "print(\"Lower bound of 95% confidence interval is: \", CI[0])"
   ]
  }
 ],
 "metadata": {
  "kernelspec": {
   "display_name": "Python 3 (ipykernel)",
   "language": "python",
   "name": "python3"
  },
  "language_info": {
   "codemirror_mode": {
    "name": "ipython",
    "version": 3
   },
   "file_extension": ".py",
   "mimetype": "text/x-python",
   "name": "python",
   "nbconvert_exporter": "python",
   "pygments_lexer": "ipython3",
   "version": "3.11.7"
  }
 },
 "nbformat": 4,
 "nbformat_minor": 5
}
